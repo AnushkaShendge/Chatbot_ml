{
  "nbformat": 4,
  "nbformat_minor": 0,
  "metadata": {
    "colab": {
      "provenance": []
    },
    "kernelspec": {
      "name": "python3",
      "display_name": "Python 3"
    },
    "language_info": {
      "name": "python"
    }
  },
  "cells": [
    {
      "cell_type": "code",
      "source": [
        "import os\n",
        "print(os.listdir())\n"
      ],
      "metadata": {
        "colab": {
          "base_uri": "https://localhost:8080/"
        },
        "id": "_bMOxNvWDQTa",
        "outputId": "30372261-56aa-427d-e7d9-4396c65873fc"
      },
      "execution_count": 4,
      "outputs": [
        {
          "output_type": "stream",
          "name": "stdout",
          "text": [
            "['.config', 'Chatbot.ipynb', 'intents.json', 'sample_data']\n"
          ]
        }
      ]
    },
    {
      "cell_type": "code",
      "execution_count": 5,
      "metadata": {
        "id": "I0HPcVj3CIO1"
      },
      "outputs": [],
      "source": [
        "import os\n",
        "import json\n",
        "import numpy as np\n",
        "import pandas as pd\n",
        "import tensorflow as tf\n",
        "import sys\n",
        "from nltk_utils import tokenize, stem, bag_of_words"
      ]
    },
    {
      "cell_type": "code",
      "source": [
        "ignore_words = [\"?\", \"i\", \"it\", \"a\", \"!\", \"me\", \"you\", \"'s\", \"does\", \"of\", \"do\", \"my\", \"are\" ]"
      ],
      "metadata": {
        "id": "TXyGYuLLDk_7"
      },
      "execution_count": 6,
      "outputs": []
    },
    {
      "cell_type": "code",
      "source": [
        "import nltk\n",
        "nltk.download('punkt')\n"
      ],
      "metadata": {
        "colab": {
          "base_uri": "https://localhost:8080/"
        },
        "id": "IEGjjDy5D_SS",
        "outputId": "cbc119b0-7b56-4c7c-d9ee-9a28fa316c5b"
      },
      "execution_count": 8,
      "outputs": [
        {
          "output_type": "stream",
          "name": "stderr",
          "text": [
            "[nltk_data] Downloading package punkt to /root/nltk_data...\n",
            "[nltk_data]   Unzipping tokenizers/punkt.zip.\n"
          ]
        },
        {
          "output_type": "execute_result",
          "data": {
            "text/plain": [
              "True"
            ]
          },
          "metadata": {},
          "execution_count": 8
        }
      ]
    },
    {
      "cell_type": "markdown",
      "source": [
        "Traning ANN Model\n",
        "\n",
        "\n",
        "```\n",
        "# This is formatted as code\n",
        "```\n",
        "\n"
      ],
      "metadata": {
        "id": "kGFuGgIGFblm"
      }
    },
    {
      "cell_type": "code",
      "source": [
        "with open(\"intents.json\", \"r\") as f:\n",
        "    intents = json.load(f)\n",
        "\n",
        "tags = []\n",
        "all_words = []\n",
        "xy = []\n",
        "\n",
        "for intent in intents[\"intents\"]:\n",
        "    tag = intent[\"tag\"]\n",
        "    tags.append(tag)\n",
        "\n",
        "    for pattern in intent[\"patterns\"]:\n",
        "\n",
        "        words = tokenize(pattern)\n",
        "        l1 = [stem(w) for w in words if w.lower() not in ignore_words]\n",
        "\n",
        "        all_words.extend(l1)\n",
        "        xy.append((l1, tag))\n",
        "\n",
        "all_words = sorted(set(all_words))\n",
        "np.random.shuffle(xy)"
      ],
      "metadata": {
        "id": "mFrj1qnbDlN6"
      },
      "execution_count": 9,
      "outputs": []
    },
    {
      "cell_type": "code",
      "source": [
        "print(tags)"
      ],
      "metadata": {
        "colab": {
          "base_uri": "https://localhost:8080/"
        },
        "id": "-IJd5IuODlQU",
        "outputId": "5d17891a-a355-4dfd-aec7-c8dceffecd72"
      },
      "execution_count": 10,
      "outputs": [
        {
          "output_type": "stream",
          "name": "stdout",
          "text": [
            "['unknown', 'greeting', 'goodbye', 'thanks', 'items', 'payments', 'delivery', 'funny']\n"
          ]
        }
      ]
    },
    {
      "cell_type": "code",
      "source": [
        "print(all_words)"
      ],
      "metadata": {
        "colab": {
          "base_uri": "https://localhost:8080/"
        },
        "id": "f0mp7ZSzDlS3",
        "outputId": "a58a56e9-4d63-4c6c-c6b0-6b534b389f18"
      },
      "execution_count": 11,
      "outputs": [
        {
          "output_type": "stream",
          "name": "stdout",
          "text": [
            "['appreci', 'avail', 'buy', 'bye', 'can', 'card', 'cash', 'credit', 'deliv', 'deliveri', 'expect', 'funni', 'goodby', 'have', 'hello', 'help', 'hey', 'hi', 'how', 'is', 'item', 'joke', 'know', 'later', 'laugh', 'lot', 'make', 'okay', 'on', 'packag', 'pay', 'payment', 'paypal', 'product', 'realli', 'reciev', 'sell', 'ship', 'should', 'someth', 'thank', 'that', 'the', 'time', 'up', 'use', 'what', 'when', 'will']\n"
          ]
        }
      ]
    },
    {
      "cell_type": "code",
      "source": [
        "print(xy)"
      ],
      "metadata": {
        "colab": {
          "base_uri": "https://localhost:8080/"
        },
        "id": "VTKhRPwLDlV9",
        "outputId": "39403ad4-e083-49da-b45e-192acfbe50ed"
      },
      "execution_count": 12,
      "outputs": [
        {
          "output_type": "stream",
          "name": "stdout",
          "text": [
            "[(['thank'], 'thanks'), (['avail'], 'items'), (['deliv'], 'delivery'), (['have', 'cash', 'on', 'deliveri'], 'payments'), (['laugh'], 'funny'), (['sell'], 'items'), (['can', 'use', 'paypal'], 'payments'), (['know', 'joke'], 'funny'), (['thank', 'lot'], 'thanks'), (['how'], 'greeting'), (['hi'], 'greeting'), (['buy'], 'items'), (['later'], 'goodbye'), (['hey'], 'greeting'), (['how', 'should', 'pay'], 'payments'), (['item'], 'items'), (['how', 'can', 'make', 'payment'], 'payments'), (['what', 'up'], 'greeting'), (['thank'], 'thanks'), (['funni', 'joke'], 'funny'), (['joke'], 'funny'), (['what', 'is', 'the', 'expect', 'deliveri', 'time'], 'delivery'), (['realli', 'appreci'], 'thanks'), (['someth', 'funni'], 'funny'), (['goodby'], 'goodbye'), (['ship'], 'delivery'), (['product'], 'items'), (['hello'], 'greeting'), (['can', 'use', 'credit', 'card'], 'payments'), (['that', 'help'], 'thanks'), (['when', 'will', 'reciev', 'packag'], 'delivery'), (['bye'], 'goodbye'), (['okay'], 'thanks')]\n"
          ]
        }
      ]
    },
    {
      "cell_type": "code",
      "source": [
        "df = pd.DataFrame(xy)\n",
        "df.head()"
      ],
      "metadata": {
        "colab": {
          "base_uri": "https://localhost:8080/",
          "height": 206
        },
        "id": "vQuLNdGaDlYN",
        "outputId": "d41d1897-3dd4-41c0-f911-33cc0e43ef91"
      },
      "execution_count": 13,
      "outputs": [
        {
          "output_type": "execute_result",
          "data": {
            "text/plain": [
              "                            0         1\n",
              "0                     [thank]    thanks\n",
              "1                     [avail]     items\n",
              "2                     [deliv]  delivery\n",
              "3  [have, cash, on, deliveri]  payments\n",
              "4                     [laugh]     funny"
            ],
            "text/html": [
              "\n",
              "  <div id=\"df-f553691a-a402-4d67-9c8d-8d9e92acfb85\" class=\"colab-df-container\">\n",
              "    <div>\n",
              "<style scoped>\n",
              "    .dataframe tbody tr th:only-of-type {\n",
              "        vertical-align: middle;\n",
              "    }\n",
              "\n",
              "    .dataframe tbody tr th {\n",
              "        vertical-align: top;\n",
              "    }\n",
              "\n",
              "    .dataframe thead th {\n",
              "        text-align: right;\n",
              "    }\n",
              "</style>\n",
              "<table border=\"1\" class=\"dataframe\">\n",
              "  <thead>\n",
              "    <tr style=\"text-align: right;\">\n",
              "      <th></th>\n",
              "      <th>0</th>\n",
              "      <th>1</th>\n",
              "    </tr>\n",
              "  </thead>\n",
              "  <tbody>\n",
              "    <tr>\n",
              "      <th>0</th>\n",
              "      <td>[thank]</td>\n",
              "      <td>thanks</td>\n",
              "    </tr>\n",
              "    <tr>\n",
              "      <th>1</th>\n",
              "      <td>[avail]</td>\n",
              "      <td>items</td>\n",
              "    </tr>\n",
              "    <tr>\n",
              "      <th>2</th>\n",
              "      <td>[deliv]</td>\n",
              "      <td>delivery</td>\n",
              "    </tr>\n",
              "    <tr>\n",
              "      <th>3</th>\n",
              "      <td>[have, cash, on, deliveri]</td>\n",
              "      <td>payments</td>\n",
              "    </tr>\n",
              "    <tr>\n",
              "      <th>4</th>\n",
              "      <td>[laugh]</td>\n",
              "      <td>funny</td>\n",
              "    </tr>\n",
              "  </tbody>\n",
              "</table>\n",
              "</div>\n",
              "    <div class=\"colab-df-buttons\">\n",
              "\n",
              "  <div class=\"colab-df-container\">\n",
              "    <button class=\"colab-df-convert\" onclick=\"convertToInteractive('df-f553691a-a402-4d67-9c8d-8d9e92acfb85')\"\n",
              "            title=\"Convert this dataframe to an interactive table.\"\n",
              "            style=\"display:none;\">\n",
              "\n",
              "  <svg xmlns=\"http://www.w3.org/2000/svg\" height=\"24px\" viewBox=\"0 -960 960 960\">\n",
              "    <path d=\"M120-120v-720h720v720H120Zm60-500h600v-160H180v160Zm220 220h160v-160H400v160Zm0 220h160v-160H400v160ZM180-400h160v-160H180v160Zm440 0h160v-160H620v160ZM180-180h160v-160H180v160Zm440 0h160v-160H620v160Z\"/>\n",
              "  </svg>\n",
              "    </button>\n",
              "\n",
              "  <style>\n",
              "    .colab-df-container {\n",
              "      display:flex;\n",
              "      gap: 12px;\n",
              "    }\n",
              "\n",
              "    .colab-df-convert {\n",
              "      background-color: #E8F0FE;\n",
              "      border: none;\n",
              "      border-radius: 50%;\n",
              "      cursor: pointer;\n",
              "      display: none;\n",
              "      fill: #1967D2;\n",
              "      height: 32px;\n",
              "      padding: 0 0 0 0;\n",
              "      width: 32px;\n",
              "    }\n",
              "\n",
              "    .colab-df-convert:hover {\n",
              "      background-color: #E2EBFA;\n",
              "      box-shadow: 0px 1px 2px rgba(60, 64, 67, 0.3), 0px 1px 3px 1px rgba(60, 64, 67, 0.15);\n",
              "      fill: #174EA6;\n",
              "    }\n",
              "\n",
              "    .colab-df-buttons div {\n",
              "      margin-bottom: 4px;\n",
              "    }\n",
              "\n",
              "    [theme=dark] .colab-df-convert {\n",
              "      background-color: #3B4455;\n",
              "      fill: #D2E3FC;\n",
              "    }\n",
              "\n",
              "    [theme=dark] .colab-df-convert:hover {\n",
              "      background-color: #434B5C;\n",
              "      box-shadow: 0px 1px 3px 1px rgba(0, 0, 0, 0.15);\n",
              "      filter: drop-shadow(0px 1px 2px rgba(0, 0, 0, 0.3));\n",
              "      fill: #FFFFFF;\n",
              "    }\n",
              "  </style>\n",
              "\n",
              "    <script>\n",
              "      const buttonEl =\n",
              "        document.querySelector('#df-f553691a-a402-4d67-9c8d-8d9e92acfb85 button.colab-df-convert');\n",
              "      buttonEl.style.display =\n",
              "        google.colab.kernel.accessAllowed ? 'block' : 'none';\n",
              "\n",
              "      async function convertToInteractive(key) {\n",
              "        const element = document.querySelector('#df-f553691a-a402-4d67-9c8d-8d9e92acfb85');\n",
              "        const dataTable =\n",
              "          await google.colab.kernel.invokeFunction('convertToInteractive',\n",
              "                                                    [key], {});\n",
              "        if (!dataTable) return;\n",
              "\n",
              "        const docLinkHtml = 'Like what you see? Visit the ' +\n",
              "          '<a target=\"_blank\" href=https://colab.research.google.com/notebooks/data_table.ipynb>data table notebook</a>'\n",
              "          + ' to learn more about interactive tables.';\n",
              "        element.innerHTML = '';\n",
              "        dataTable['output_type'] = 'display_data';\n",
              "        await google.colab.output.renderOutput(dataTable, element);\n",
              "        const docLink = document.createElement('div');\n",
              "        docLink.innerHTML = docLinkHtml;\n",
              "        element.appendChild(docLink);\n",
              "      }\n",
              "    </script>\n",
              "  </div>\n",
              "\n",
              "\n",
              "<div id=\"df-fa14a6c8-8cef-49c3-a41b-4ee37b91212c\">\n",
              "  <button class=\"colab-df-quickchart\" onclick=\"quickchart('df-fa14a6c8-8cef-49c3-a41b-4ee37b91212c')\"\n",
              "            title=\"Suggest charts\"\n",
              "            style=\"display:none;\">\n",
              "\n",
              "<svg xmlns=\"http://www.w3.org/2000/svg\" height=\"24px\"viewBox=\"0 0 24 24\"\n",
              "     width=\"24px\">\n",
              "    <g>\n",
              "        <path d=\"M19 3H5c-1.1 0-2 .9-2 2v14c0 1.1.9 2 2 2h14c1.1 0 2-.9 2-2V5c0-1.1-.9-2-2-2zM9 17H7v-7h2v7zm4 0h-2V7h2v10zm4 0h-2v-4h2v4z\"/>\n",
              "    </g>\n",
              "</svg>\n",
              "  </button>\n",
              "\n",
              "<style>\n",
              "  .colab-df-quickchart {\n",
              "      --bg-color: #E8F0FE;\n",
              "      --fill-color: #1967D2;\n",
              "      --hover-bg-color: #E2EBFA;\n",
              "      --hover-fill-color: #174EA6;\n",
              "      --disabled-fill-color: #AAA;\n",
              "      --disabled-bg-color: #DDD;\n",
              "  }\n",
              "\n",
              "  [theme=dark] .colab-df-quickchart {\n",
              "      --bg-color: #3B4455;\n",
              "      --fill-color: #D2E3FC;\n",
              "      --hover-bg-color: #434B5C;\n",
              "      --hover-fill-color: #FFFFFF;\n",
              "      --disabled-bg-color: #3B4455;\n",
              "      --disabled-fill-color: #666;\n",
              "  }\n",
              "\n",
              "  .colab-df-quickchart {\n",
              "    background-color: var(--bg-color);\n",
              "    border: none;\n",
              "    border-radius: 50%;\n",
              "    cursor: pointer;\n",
              "    display: none;\n",
              "    fill: var(--fill-color);\n",
              "    height: 32px;\n",
              "    padding: 0;\n",
              "    width: 32px;\n",
              "  }\n",
              "\n",
              "  .colab-df-quickchart:hover {\n",
              "    background-color: var(--hover-bg-color);\n",
              "    box-shadow: 0 1px 2px rgba(60, 64, 67, 0.3), 0 1px 3px 1px rgba(60, 64, 67, 0.15);\n",
              "    fill: var(--button-hover-fill-color);\n",
              "  }\n",
              "\n",
              "  .colab-df-quickchart-complete:disabled,\n",
              "  .colab-df-quickchart-complete:disabled:hover {\n",
              "    background-color: var(--disabled-bg-color);\n",
              "    fill: var(--disabled-fill-color);\n",
              "    box-shadow: none;\n",
              "  }\n",
              "\n",
              "  .colab-df-spinner {\n",
              "    border: 2px solid var(--fill-color);\n",
              "    border-color: transparent;\n",
              "    border-bottom-color: var(--fill-color);\n",
              "    animation:\n",
              "      spin 1s steps(1) infinite;\n",
              "  }\n",
              "\n",
              "  @keyframes spin {\n",
              "    0% {\n",
              "      border-color: transparent;\n",
              "      border-bottom-color: var(--fill-color);\n",
              "      border-left-color: var(--fill-color);\n",
              "    }\n",
              "    20% {\n",
              "      border-color: transparent;\n",
              "      border-left-color: var(--fill-color);\n",
              "      border-top-color: var(--fill-color);\n",
              "    }\n",
              "    30% {\n",
              "      border-color: transparent;\n",
              "      border-left-color: var(--fill-color);\n",
              "      border-top-color: var(--fill-color);\n",
              "      border-right-color: var(--fill-color);\n",
              "    }\n",
              "    40% {\n",
              "      border-color: transparent;\n",
              "      border-right-color: var(--fill-color);\n",
              "      border-top-color: var(--fill-color);\n",
              "    }\n",
              "    60% {\n",
              "      border-color: transparent;\n",
              "      border-right-color: var(--fill-color);\n",
              "    }\n",
              "    80% {\n",
              "      border-color: transparent;\n",
              "      border-right-color: var(--fill-color);\n",
              "      border-bottom-color: var(--fill-color);\n",
              "    }\n",
              "    90% {\n",
              "      border-color: transparent;\n",
              "      border-bottom-color: var(--fill-color);\n",
              "    }\n",
              "  }\n",
              "</style>\n",
              "\n",
              "  <script>\n",
              "    async function quickchart(key) {\n",
              "      const quickchartButtonEl =\n",
              "        document.querySelector('#' + key + ' button');\n",
              "      quickchartButtonEl.disabled = true;  // To prevent multiple clicks.\n",
              "      quickchartButtonEl.classList.add('colab-df-spinner');\n",
              "      try {\n",
              "        const charts = await google.colab.kernel.invokeFunction(\n",
              "            'suggestCharts', [key], {});\n",
              "      } catch (error) {\n",
              "        console.error('Error during call to suggestCharts:', error);\n",
              "      }\n",
              "      quickchartButtonEl.classList.remove('colab-df-spinner');\n",
              "      quickchartButtonEl.classList.add('colab-df-quickchart-complete');\n",
              "    }\n",
              "    (() => {\n",
              "      let quickchartButtonEl =\n",
              "        document.querySelector('#df-fa14a6c8-8cef-49c3-a41b-4ee37b91212c button');\n",
              "      quickchartButtonEl.style.display =\n",
              "        google.colab.kernel.accessAllowed ? 'block' : 'none';\n",
              "    })();\n",
              "  </script>\n",
              "</div>\n",
              "\n",
              "    </div>\n",
              "  </div>\n"
            ],
            "application/vnd.google.colaboratory.intrinsic+json": {
              "type": "dataframe",
              "variable_name": "df",
              "summary": "{\n  \"name\": \"df\",\n  \"rows\": 33,\n  \"fields\": [\n    {\n      \"column\": 0,\n      \"properties\": {\n        \"dtype\": \"object\",\n        \"semantic_type\": \"\",\n        \"description\": \"\"\n      }\n    },\n    {\n      \"column\": 1,\n      \"properties\": {\n        \"dtype\": \"category\",\n        \"num_unique_values\": 7,\n        \"samples\": [\n          \"thanks\",\n          \"items\",\n          \"greeting\"\n        ],\n        \"semantic_type\": \"\",\n        \"description\": \"\"\n      }\n    }\n  ]\n}"
            }
          },
          "metadata": {},
          "execution_count": 13
        }
      ]
    },
    {
      "cell_type": "code",
      "source": [
        "X_train = []\n",
        "y_train = []\n",
        "\n",
        "for sentence, tag in xy:\n",
        "    bag = bag_of_words(sentence, all_words)\n",
        "    X_train.append(bag)\n",
        "\n",
        "    label = bag_of_words(tag, tags)\n",
        "    y_train.append(label)\n",
        "\n",
        "X_train = np.array(X_train)\n",
        "y_train = np.array(y_train)"
      ],
      "metadata": {
        "id": "LkdNQh8VDlao"
      },
      "execution_count": 14,
      "outputs": []
    },
    {
      "cell_type": "code",
      "source": [
        "X_train"
      ],
      "metadata": {
        "colab": {
          "base_uri": "https://localhost:8080/"
        },
        "id": "CF_PHcQPDldF",
        "outputId": "4ddcbaa9-2326-4e74-ef24-dd60ee8c0dca"
      },
      "execution_count": 15,
      "outputs": [
        {
          "output_type": "execute_result",
          "data": {
            "text/plain": [
              "array([[0., 0., 0., ..., 0., 0., 0.],\n",
              "       [0., 1., 0., ..., 0., 0., 0.],\n",
              "       [0., 0., 0., ..., 0., 0., 0.],\n",
              "       ...,\n",
              "       [0., 0., 0., ..., 0., 1., 1.],\n",
              "       [0., 0., 0., ..., 0., 0., 0.],\n",
              "       [0., 0., 0., ..., 0., 0., 0.]], dtype=float32)"
            ]
          },
          "metadata": {},
          "execution_count": 15
        }
      ]
    },
    {
      "cell_type": "code",
      "source": [
        "y_train"
      ],
      "metadata": {
        "colab": {
          "base_uri": "https://localhost:8080/"
        },
        "id": "pRUHy58SDlfr",
        "outputId": "2d35b695-d3ac-4479-fae4-bd8465f311bc"
      },
      "execution_count": 16,
      "outputs": [
        {
          "output_type": "execute_result",
          "data": {
            "text/plain": [
              "array([[0., 0., 0., 1., 0., 0., 0., 0.],\n",
              "       [0., 0., 0., 0., 1., 0., 0., 0.],\n",
              "       [0., 0., 0., 0., 0., 0., 1., 0.],\n",
              "       [0., 0., 0., 0., 0., 1., 0., 0.],\n",
              "       [0., 0., 0., 0., 0., 0., 0., 1.],\n",
              "       [0., 0., 0., 0., 1., 0., 0., 0.],\n",
              "       [0., 0., 0., 0., 0., 1., 0., 0.],\n",
              "       [0., 0., 0., 0., 0., 0., 0., 1.],\n",
              "       [0., 0., 0., 1., 0., 0., 0., 0.],\n",
              "       [0., 1., 0., 0., 0., 0., 0., 0.],\n",
              "       [0., 1., 0., 0., 0., 0., 0., 0.],\n",
              "       [0., 0., 0., 0., 1., 0., 0., 0.],\n",
              "       [0., 0., 1., 0., 0., 0., 0., 0.],\n",
              "       [0., 1., 0., 0., 0., 0., 0., 0.],\n",
              "       [0., 0., 0., 0., 0., 1., 0., 0.],\n",
              "       [0., 0., 0., 0., 1., 0., 0., 0.],\n",
              "       [0., 0., 0., 0., 0., 1., 0., 0.],\n",
              "       [0., 1., 0., 0., 0., 0., 0., 0.],\n",
              "       [0., 0., 0., 1., 0., 0., 0., 0.],\n",
              "       [0., 0., 0., 0., 0., 0., 0., 1.],\n",
              "       [0., 0., 0., 0., 0., 0., 0., 1.],\n",
              "       [0., 0., 0., 0., 0., 0., 1., 0.],\n",
              "       [0., 0., 0., 1., 0., 0., 0., 0.],\n",
              "       [0., 0., 0., 0., 0., 0., 0., 1.],\n",
              "       [0., 0., 1., 0., 0., 0., 0., 0.],\n",
              "       [0., 0., 0., 0., 0., 0., 1., 0.],\n",
              "       [0., 0., 0., 0., 1., 0., 0., 0.],\n",
              "       [0., 1., 0., 0., 0., 0., 0., 0.],\n",
              "       [0., 0., 0., 0., 0., 1., 0., 0.],\n",
              "       [0., 0., 0., 1., 0., 0., 0., 0.],\n",
              "       [0., 0., 0., 0., 0., 0., 1., 0.],\n",
              "       [0., 0., 1., 0., 0., 0., 0., 0.],\n",
              "       [0., 0., 0., 1., 0., 0., 0., 0.]], dtype=float32)"
            ]
          },
          "metadata": {},
          "execution_count": 16
        }
      ]
    },
    {
      "cell_type": "code",
      "source": [
        "ann = tf.keras.models.Sequential()\n",
        "\n",
        "ann.add(tf.keras.layers.Dense(units=16, input_shape = np.shape(all_words), activation='relu'))\n",
        "ann.add(tf.keras.layers.Dense(units=16, activation='relu'))\n",
        "\n",
        "ann.add(tf.keras.layers.Dense(units=len(tags) , activation='softmax'))\n",
        "\n",
        "ann.compile(optimizer = 'adam', loss = 'categorical_crossentropy', metrics=['accuracy'])"
      ],
      "metadata": {
        "id": "g_WkCf4sDliS"
      },
      "execution_count": 17,
      "outputs": []
    },
    {
      "cell_type": "code",
      "source": [
        "ann.fit(X_train, y_train, batch_size=6, epochs = 200)"
      ],
      "metadata": {
        "colab": {
          "base_uri": "https://localhost:8080/"
        },
        "id": "C1lqsCW8Dlkl",
        "outputId": "e62eb578-5ded-451e-e2e0-d5d15c4243a3"
      },
      "execution_count": 18,
      "outputs": [
        {
          "output_type": "stream",
          "name": "stdout",
          "text": [
            "Epoch 1/200\n",
            "6/6 [==============================] - 1s 4ms/step - loss: 2.0896 - accuracy: 0.1818\n",
            "Epoch 2/200\n",
            "6/6 [==============================] - 0s 3ms/step - loss: 2.0760 - accuracy: 0.1818\n",
            "Epoch 3/200\n",
            "6/6 [==============================] - 0s 3ms/step - loss: 2.0654 - accuracy: 0.2121\n",
            "Epoch 4/200\n",
            "6/6 [==============================] - 0s 3ms/step - loss: 2.0539 - accuracy: 0.2424\n",
            "Epoch 5/200\n",
            "6/6 [==============================] - 0s 3ms/step - loss: 2.0437 - accuracy: 0.2727\n",
            "Epoch 6/200\n",
            "6/6 [==============================] - 0s 3ms/step - loss: 2.0326 - accuracy: 0.3030\n",
            "Epoch 7/200\n",
            "6/6 [==============================] - 0s 3ms/step - loss: 2.0218 - accuracy: 0.2727\n",
            "Epoch 8/200\n",
            "6/6 [==============================] - 0s 3ms/step - loss: 2.0111 - accuracy: 0.2727\n",
            "Epoch 9/200\n",
            "6/6 [==============================] - 0s 3ms/step - loss: 2.0010 - accuracy: 0.2727\n",
            "Epoch 10/200\n",
            "6/6 [==============================] - 0s 3ms/step - loss: 1.9913 - accuracy: 0.2424\n",
            "Epoch 11/200\n",
            "6/6 [==============================] - 0s 3ms/step - loss: 1.9805 - accuracy: 0.2727\n",
            "Epoch 12/200\n",
            "6/6 [==============================] - 0s 3ms/step - loss: 1.9702 - accuracy: 0.2727\n",
            "Epoch 13/200\n",
            "6/6 [==============================] - 0s 3ms/step - loss: 1.9594 - accuracy: 0.2727\n",
            "Epoch 14/200\n",
            "6/6 [==============================] - 0s 3ms/step - loss: 1.9483 - accuracy: 0.2727\n",
            "Epoch 15/200\n",
            "6/6 [==============================] - 0s 3ms/step - loss: 1.9374 - accuracy: 0.3030\n",
            "Epoch 16/200\n",
            "6/6 [==============================] - 0s 3ms/step - loss: 1.9260 - accuracy: 0.3030\n",
            "Epoch 17/200\n",
            "6/6 [==============================] - 0s 3ms/step - loss: 1.9143 - accuracy: 0.3030\n",
            "Epoch 18/200\n",
            "6/6 [==============================] - 0s 4ms/step - loss: 1.9017 - accuracy: 0.3030\n",
            "Epoch 19/200\n",
            "6/6 [==============================] - 0s 3ms/step - loss: 1.8900 - accuracy: 0.3333\n",
            "Epoch 20/200\n",
            "6/6 [==============================] - 0s 3ms/step - loss: 1.8764 - accuracy: 0.3939\n",
            "Epoch 21/200\n",
            "6/6 [==============================] - 0s 3ms/step - loss: 1.8625 - accuracy: 0.4242\n",
            "Epoch 22/200\n",
            "6/6 [==============================] - 0s 4ms/step - loss: 1.8480 - accuracy: 0.4242\n",
            "Epoch 23/200\n",
            "6/6 [==============================] - 0s 4ms/step - loss: 1.8334 - accuracy: 0.4545\n",
            "Epoch 24/200\n",
            "6/6 [==============================] - 0s 4ms/step - loss: 1.8182 - accuracy: 0.4545\n",
            "Epoch 25/200\n",
            "6/6 [==============================] - 0s 4ms/step - loss: 1.8016 - accuracy: 0.5152\n",
            "Epoch 26/200\n",
            "6/6 [==============================] - 0s 4ms/step - loss: 1.7842 - accuracy: 0.4848\n",
            "Epoch 27/200\n",
            "6/6 [==============================] - 0s 4ms/step - loss: 1.7674 - accuracy: 0.4848\n",
            "Epoch 28/200\n",
            "6/6 [==============================] - 0s 4ms/step - loss: 1.7485 - accuracy: 0.5455\n",
            "Epoch 29/200\n",
            "6/6 [==============================] - 0s 4ms/step - loss: 1.7299 - accuracy: 0.5152\n",
            "Epoch 30/200\n",
            "6/6 [==============================] - 0s 5ms/step - loss: 1.7095 - accuracy: 0.5455\n",
            "Epoch 31/200\n",
            "6/6 [==============================] - 0s 5ms/step - loss: 1.6879 - accuracy: 0.5758\n",
            "Epoch 32/200\n",
            "6/6 [==============================] - 0s 4ms/step - loss: 1.6665 - accuracy: 0.6061\n",
            "Epoch 33/200\n",
            "6/6 [==============================] - 0s 4ms/step - loss: 1.6438 - accuracy: 0.6061\n",
            "Epoch 34/200\n",
            "6/6 [==============================] - 0s 4ms/step - loss: 1.6198 - accuracy: 0.6364\n",
            "Epoch 35/200\n",
            "6/6 [==============================] - 0s 4ms/step - loss: 1.5957 - accuracy: 0.6667\n",
            "Epoch 36/200\n",
            "6/6 [==============================] - 0s 3ms/step - loss: 1.5708 - accuracy: 0.6970\n",
            "Epoch 37/200\n",
            "6/6 [==============================] - 0s 4ms/step - loss: 1.5444 - accuracy: 0.7273\n",
            "Epoch 38/200\n",
            "6/6 [==============================] - 0s 4ms/step - loss: 1.5176 - accuracy: 0.7576\n",
            "Epoch 39/200\n",
            "6/6 [==============================] - 0s 5ms/step - loss: 1.4920 - accuracy: 0.7879\n",
            "Epoch 40/200\n",
            "6/6 [==============================] - 0s 4ms/step - loss: 1.4630 - accuracy: 0.7879\n",
            "Epoch 41/200\n",
            "6/6 [==============================] - 0s 4ms/step - loss: 1.4343 - accuracy: 0.7879\n",
            "Epoch 42/200\n",
            "6/6 [==============================] - 0s 4ms/step - loss: 1.4039 - accuracy: 0.7879\n",
            "Epoch 43/200\n",
            "6/6 [==============================] - 0s 4ms/step - loss: 1.3738 - accuracy: 0.8182\n",
            "Epoch 44/200\n",
            "6/6 [==============================] - 0s 4ms/step - loss: 1.3420 - accuracy: 0.8182\n",
            "Epoch 45/200\n",
            "6/6 [==============================] - 0s 4ms/step - loss: 1.3105 - accuracy: 0.8485\n",
            "Epoch 46/200\n",
            "6/6 [==============================] - 0s 4ms/step - loss: 1.2792 - accuracy: 0.8485\n",
            "Epoch 47/200\n",
            "6/6 [==============================] - 0s 4ms/step - loss: 1.2457 - accuracy: 0.8485\n",
            "Epoch 48/200\n",
            "6/6 [==============================] - 0s 4ms/step - loss: 1.2125 - accuracy: 0.8788\n",
            "Epoch 49/200\n",
            "6/6 [==============================] - 0s 5ms/step - loss: 1.1793 - accuracy: 0.9091\n",
            "Epoch 50/200\n",
            "6/6 [==============================] - 0s 4ms/step - loss: 1.1453 - accuracy: 0.9091\n",
            "Epoch 51/200\n",
            "6/6 [==============================] - 0s 4ms/step - loss: 1.1118 - accuracy: 0.9091\n",
            "Epoch 52/200\n",
            "6/6 [==============================] - 0s 4ms/step - loss: 1.0769 - accuracy: 0.9091\n",
            "Epoch 53/200\n",
            "6/6 [==============================] - 0s 4ms/step - loss: 1.0431 - accuracy: 0.9091\n",
            "Epoch 54/200\n",
            "6/6 [==============================] - 0s 4ms/step - loss: 1.0086 - accuracy: 0.9091\n",
            "Epoch 55/200\n",
            "6/6 [==============================] - 0s 5ms/step - loss: 0.9765 - accuracy: 0.9091\n",
            "Epoch 56/200\n",
            "6/6 [==============================] - 0s 4ms/step - loss: 0.9435 - accuracy: 0.9091\n",
            "Epoch 57/200\n",
            "6/6 [==============================] - 0s 3ms/step - loss: 0.9115 - accuracy: 0.9091\n",
            "Epoch 58/200\n",
            "6/6 [==============================] - 0s 3ms/step - loss: 0.8805 - accuracy: 0.9091\n",
            "Epoch 59/200\n",
            "6/6 [==============================] - 0s 3ms/step - loss: 0.8507 - accuracy: 0.9091\n",
            "Epoch 60/200\n",
            "6/6 [==============================] - 0s 3ms/step - loss: 0.8213 - accuracy: 0.9091\n",
            "Epoch 61/200\n",
            "6/6 [==============================] - 0s 5ms/step - loss: 0.7923 - accuracy: 0.9091\n",
            "Epoch 62/200\n",
            "6/6 [==============================] - 0s 3ms/step - loss: 0.7636 - accuracy: 0.9394\n",
            "Epoch 63/200\n",
            "6/6 [==============================] - 0s 4ms/step - loss: 0.7353 - accuracy: 0.9394\n",
            "Epoch 64/200\n",
            "6/6 [==============================] - 0s 4ms/step - loss: 0.7080 - accuracy: 0.9394\n",
            "Epoch 65/200\n",
            "6/6 [==============================] - 0s 3ms/step - loss: 0.6825 - accuracy: 0.9394\n",
            "Epoch 66/200\n",
            "6/6 [==============================] - 0s 3ms/step - loss: 0.6555 - accuracy: 0.9394\n",
            "Epoch 67/200\n",
            "6/6 [==============================] - 0s 3ms/step - loss: 0.6308 - accuracy: 0.9394\n",
            "Epoch 68/200\n",
            "6/6 [==============================] - 0s 3ms/step - loss: 0.6071 - accuracy: 0.9697\n",
            "Epoch 69/200\n",
            "6/6 [==============================] - 0s 3ms/step - loss: 0.5828 - accuracy: 0.9394\n",
            "Epoch 70/200\n",
            "6/6 [==============================] - 0s 3ms/step - loss: 0.5588 - accuracy: 0.9697\n",
            "Epoch 71/200\n",
            "6/6 [==============================] - 0s 3ms/step - loss: 0.5382 - accuracy: 0.9697\n",
            "Epoch 72/200\n",
            "6/6 [==============================] - 0s 4ms/step - loss: 0.5141 - accuracy: 1.0000\n",
            "Epoch 73/200\n",
            "6/6 [==============================] - 0s 3ms/step - loss: 0.4928 - accuracy: 1.0000\n",
            "Epoch 74/200\n",
            "6/6 [==============================] - 0s 3ms/step - loss: 0.4724 - accuracy: 1.0000\n",
            "Epoch 75/200\n",
            "6/6 [==============================] - 0s 3ms/step - loss: 0.4508 - accuracy: 1.0000\n",
            "Epoch 76/200\n",
            "6/6 [==============================] - 0s 3ms/step - loss: 0.4320 - accuracy: 1.0000\n",
            "Epoch 77/200\n",
            "6/6 [==============================] - 0s 4ms/step - loss: 0.4131 - accuracy: 1.0000\n",
            "Epoch 78/200\n",
            "6/6 [==============================] - 0s 4ms/step - loss: 0.3953 - accuracy: 1.0000\n",
            "Epoch 79/200\n",
            "6/6 [==============================] - 0s 3ms/step - loss: 0.3776 - accuracy: 1.0000\n",
            "Epoch 80/200\n",
            "6/6 [==============================] - 0s 3ms/step - loss: 0.3625 - accuracy: 1.0000\n",
            "Epoch 81/200\n",
            "6/6 [==============================] - 0s 3ms/step - loss: 0.3453 - accuracy: 1.0000\n",
            "Epoch 82/200\n",
            "6/6 [==============================] - 0s 3ms/step - loss: 0.3302 - accuracy: 1.0000\n",
            "Epoch 83/200\n",
            "6/6 [==============================] - 0s 3ms/step - loss: 0.3153 - accuracy: 1.0000\n",
            "Epoch 84/200\n",
            "6/6 [==============================] - 0s 4ms/step - loss: 0.3015 - accuracy: 1.0000\n",
            "Epoch 85/200\n",
            "6/6 [==============================] - 0s 3ms/step - loss: 0.2884 - accuracy: 1.0000\n",
            "Epoch 86/200\n",
            "6/6 [==============================] - 0s 3ms/step - loss: 0.2741 - accuracy: 1.0000\n",
            "Epoch 87/200\n",
            "6/6 [==============================] - 0s 3ms/step - loss: 0.2616 - accuracy: 1.0000\n",
            "Epoch 88/200\n",
            "6/6 [==============================] - 0s 4ms/step - loss: 0.2504 - accuracy: 1.0000\n",
            "Epoch 89/200\n",
            "6/6 [==============================] - 0s 5ms/step - loss: 0.2389 - accuracy: 1.0000\n",
            "Epoch 90/200\n",
            "6/6 [==============================] - 0s 4ms/step - loss: 0.2283 - accuracy: 1.0000\n",
            "Epoch 91/200\n",
            "6/6 [==============================] - 0s 5ms/step - loss: 0.2180 - accuracy: 1.0000\n",
            "Epoch 92/200\n",
            "6/6 [==============================] - 0s 4ms/step - loss: 0.2083 - accuracy: 1.0000\n",
            "Epoch 93/200\n",
            "6/6 [==============================] - 0s 4ms/step - loss: 0.1998 - accuracy: 1.0000\n",
            "Epoch 94/200\n",
            "6/6 [==============================] - 0s 4ms/step - loss: 0.1913 - accuracy: 1.0000\n",
            "Epoch 95/200\n",
            "6/6 [==============================] - 0s 4ms/step - loss: 0.1835 - accuracy: 1.0000\n",
            "Epoch 96/200\n",
            "6/6 [==============================] - 0s 4ms/step - loss: 0.1755 - accuracy: 1.0000\n",
            "Epoch 97/200\n",
            "6/6 [==============================] - 0s 4ms/step - loss: 0.1685 - accuracy: 1.0000\n",
            "Epoch 98/200\n",
            "6/6 [==============================] - 0s 5ms/step - loss: 0.1619 - accuracy: 1.0000\n",
            "Epoch 99/200\n",
            "6/6 [==============================] - 0s 5ms/step - loss: 0.1555 - accuracy: 1.0000\n",
            "Epoch 100/200\n",
            "6/6 [==============================] - 0s 5ms/step - loss: 0.1493 - accuracy: 1.0000\n",
            "Epoch 101/200\n",
            "6/6 [==============================] - 0s 4ms/step - loss: 0.1436 - accuracy: 1.0000\n",
            "Epoch 102/200\n",
            "6/6 [==============================] - 0s 4ms/step - loss: 0.1385 - accuracy: 1.0000\n",
            "Epoch 103/200\n",
            "6/6 [==============================] - 0s 4ms/step - loss: 0.1332 - accuracy: 1.0000\n",
            "Epoch 104/200\n",
            "6/6 [==============================] - 0s 4ms/step - loss: 0.1284 - accuracy: 1.0000\n",
            "Epoch 105/200\n",
            "6/6 [==============================] - 0s 4ms/step - loss: 0.1239 - accuracy: 1.0000\n",
            "Epoch 106/200\n",
            "6/6 [==============================] - 0s 4ms/step - loss: 0.1198 - accuracy: 1.0000\n",
            "Epoch 107/200\n",
            "6/6 [==============================] - 0s 4ms/step - loss: 0.1153 - accuracy: 1.0000\n",
            "Epoch 108/200\n",
            "6/6 [==============================] - 0s 4ms/step - loss: 0.1113 - accuracy: 1.0000\n",
            "Epoch 109/200\n",
            "6/6 [==============================] - 0s 4ms/step - loss: 0.1073 - accuracy: 1.0000\n",
            "Epoch 110/200\n",
            "6/6 [==============================] - 0s 4ms/step - loss: 0.1036 - accuracy: 1.0000\n",
            "Epoch 111/200\n",
            "6/6 [==============================] - 0s 4ms/step - loss: 0.1002 - accuracy: 1.0000\n",
            "Epoch 112/200\n",
            "6/6 [==============================] - 0s 4ms/step - loss: 0.0966 - accuracy: 1.0000\n",
            "Epoch 113/200\n",
            "6/6 [==============================] - 0s 4ms/step - loss: 0.0936 - accuracy: 1.0000\n",
            "Epoch 114/200\n",
            "6/6 [==============================] - 0s 4ms/step - loss: 0.0903 - accuracy: 1.0000\n",
            "Epoch 115/200\n",
            "6/6 [==============================] - 0s 5ms/step - loss: 0.0875 - accuracy: 1.0000\n",
            "Epoch 116/200\n",
            "6/6 [==============================] - 0s 4ms/step - loss: 0.0846 - accuracy: 1.0000\n",
            "Epoch 117/200\n",
            "6/6 [==============================] - 0s 4ms/step - loss: 0.0818 - accuracy: 1.0000\n",
            "Epoch 118/200\n",
            "6/6 [==============================] - 0s 4ms/step - loss: 0.0791 - accuracy: 1.0000\n",
            "Epoch 119/200\n",
            "6/6 [==============================] - 0s 5ms/step - loss: 0.0768 - accuracy: 1.0000\n",
            "Epoch 120/200\n",
            "6/6 [==============================] - 0s 4ms/step - loss: 0.0743 - accuracy: 1.0000\n",
            "Epoch 121/200\n",
            "6/6 [==============================] - 0s 4ms/step - loss: 0.0720 - accuracy: 1.0000\n",
            "Epoch 122/200\n",
            "6/6 [==============================] - 0s 4ms/step - loss: 0.0699 - accuracy: 1.0000\n",
            "Epoch 123/200\n",
            "6/6 [==============================] - 0s 4ms/step - loss: 0.0677 - accuracy: 1.0000\n",
            "Epoch 124/200\n",
            "6/6 [==============================] - 0s 3ms/step - loss: 0.0658 - accuracy: 1.0000\n",
            "Epoch 125/200\n",
            "6/6 [==============================] - 0s 4ms/step - loss: 0.0638 - accuracy: 1.0000\n",
            "Epoch 126/200\n",
            "6/6 [==============================] - 0s 4ms/step - loss: 0.0619 - accuracy: 1.0000\n",
            "Epoch 127/200\n",
            "6/6 [==============================] - 0s 3ms/step - loss: 0.0602 - accuracy: 1.0000\n",
            "Epoch 128/200\n",
            "6/6 [==============================] - 0s 4ms/step - loss: 0.0585 - accuracy: 1.0000\n",
            "Epoch 129/200\n",
            "6/6 [==============================] - 0s 3ms/step - loss: 0.0570 - accuracy: 1.0000\n",
            "Epoch 130/200\n",
            "6/6 [==============================] - 0s 4ms/step - loss: 0.0554 - accuracy: 1.0000\n",
            "Epoch 131/200\n",
            "6/6 [==============================] - 0s 3ms/step - loss: 0.0537 - accuracy: 1.0000\n",
            "Epoch 132/200\n",
            "6/6 [==============================] - 0s 5ms/step - loss: 0.0522 - accuracy: 1.0000\n",
            "Epoch 133/200\n",
            "6/6 [==============================] - 0s 3ms/step - loss: 0.0508 - accuracy: 1.0000\n",
            "Epoch 134/200\n",
            "6/6 [==============================] - 0s 3ms/step - loss: 0.0494 - accuracy: 1.0000\n",
            "Epoch 135/200\n",
            "6/6 [==============================] - 0s 3ms/step - loss: 0.0480 - accuracy: 1.0000\n",
            "Epoch 136/200\n",
            "6/6 [==============================] - 0s 3ms/step - loss: 0.0467 - accuracy: 1.0000\n",
            "Epoch 137/200\n",
            "6/6 [==============================] - 0s 3ms/step - loss: 0.0455 - accuracy: 1.0000\n",
            "Epoch 138/200\n",
            "6/6 [==============================] - 0s 3ms/step - loss: 0.0443 - accuracy: 1.0000\n",
            "Epoch 139/200\n",
            "6/6 [==============================] - 0s 3ms/step - loss: 0.0431 - accuracy: 1.0000\n",
            "Epoch 140/200\n",
            "6/6 [==============================] - 0s 4ms/step - loss: 0.0420 - accuracy: 1.0000\n",
            "Epoch 141/200\n",
            "6/6 [==============================] - 0s 3ms/step - loss: 0.0410 - accuracy: 1.0000\n",
            "Epoch 142/200\n",
            "6/6 [==============================] - 0s 3ms/step - loss: 0.0399 - accuracy: 1.0000\n",
            "Epoch 143/200\n",
            "6/6 [==============================] - 0s 3ms/step - loss: 0.0389 - accuracy: 1.0000\n",
            "Epoch 144/200\n",
            "6/6 [==============================] - 0s 4ms/step - loss: 0.0380 - accuracy: 1.0000\n",
            "Epoch 145/200\n",
            "6/6 [==============================] - 0s 3ms/step - loss: 0.0370 - accuracy: 1.0000\n",
            "Epoch 146/200\n",
            "6/6 [==============================] - 0s 3ms/step - loss: 0.0362 - accuracy: 1.0000\n",
            "Epoch 147/200\n",
            "6/6 [==============================] - 0s 3ms/step - loss: 0.0353 - accuracy: 1.0000\n",
            "Epoch 148/200\n",
            "6/6 [==============================] - 0s 3ms/step - loss: 0.0346 - accuracy: 1.0000\n",
            "Epoch 149/200\n",
            "6/6 [==============================] - 0s 3ms/step - loss: 0.0337 - accuracy: 1.0000\n",
            "Epoch 150/200\n",
            "6/6 [==============================] - 0s 3ms/step - loss: 0.0330 - accuracy: 1.0000\n",
            "Epoch 151/200\n",
            "6/6 [==============================] - 0s 3ms/step - loss: 0.0322 - accuracy: 1.0000\n",
            "Epoch 152/200\n",
            "6/6 [==============================] - 0s 3ms/step - loss: 0.0316 - accuracy: 1.0000\n",
            "Epoch 153/200\n",
            "6/6 [==============================] - 0s 4ms/step - loss: 0.0309 - accuracy: 1.0000\n",
            "Epoch 154/200\n",
            "6/6 [==============================] - 0s 4ms/step - loss: 0.0303 - accuracy: 1.0000\n",
            "Epoch 155/200\n",
            "6/6 [==============================] - 0s 4ms/step - loss: 0.0296 - accuracy: 1.0000\n",
            "Epoch 156/200\n",
            "6/6 [==============================] - 0s 4ms/step - loss: 0.0290 - accuracy: 1.0000\n",
            "Epoch 157/200\n",
            "6/6 [==============================] - 0s 4ms/step - loss: 0.0284 - accuracy: 1.0000\n",
            "Epoch 158/200\n",
            "6/6 [==============================] - 0s 4ms/step - loss: 0.0278 - accuracy: 1.0000\n",
            "Epoch 159/200\n",
            "6/6 [==============================] - 0s 4ms/step - loss: 0.0273 - accuracy: 1.0000\n",
            "Epoch 160/200\n",
            "6/6 [==============================] - 0s 4ms/step - loss: 0.0267 - accuracy: 1.0000\n",
            "Epoch 161/200\n",
            "6/6 [==============================] - 0s 4ms/step - loss: 0.0262 - accuracy: 1.0000\n",
            "Epoch 162/200\n",
            "6/6 [==============================] - 0s 4ms/step - loss: 0.0256 - accuracy: 1.0000\n",
            "Epoch 163/200\n",
            "6/6 [==============================] - 0s 4ms/step - loss: 0.0251 - accuracy: 1.0000\n",
            "Epoch 164/200\n",
            "6/6 [==============================] - 0s 4ms/step - loss: 0.0246 - accuracy: 1.0000\n",
            "Epoch 165/200\n",
            "6/6 [==============================] - 0s 5ms/step - loss: 0.0241 - accuracy: 1.0000\n",
            "Epoch 166/200\n",
            "6/6 [==============================] - 0s 3ms/step - loss: 0.0237 - accuracy: 1.0000\n",
            "Epoch 167/200\n",
            "6/6 [==============================] - 0s 4ms/step - loss: 0.0232 - accuracy: 1.0000\n",
            "Epoch 168/200\n",
            "6/6 [==============================] - 0s 5ms/step - loss: 0.0228 - accuracy: 1.0000\n",
            "Epoch 169/200\n",
            "6/6 [==============================] - 0s 4ms/step - loss: 0.0224 - accuracy: 1.0000\n",
            "Epoch 170/200\n",
            "6/6 [==============================] - 0s 4ms/step - loss: 0.0220 - accuracy: 1.0000\n",
            "Epoch 171/200\n",
            "6/6 [==============================] - 0s 4ms/step - loss: 0.0216 - accuracy: 1.0000\n",
            "Epoch 172/200\n",
            "6/6 [==============================] - 0s 4ms/step - loss: 0.0212 - accuracy: 1.0000\n",
            "Epoch 173/200\n",
            "6/6 [==============================] - 0s 4ms/step - loss: 0.0208 - accuracy: 1.0000\n",
            "Epoch 174/200\n",
            "6/6 [==============================] - 0s 4ms/step - loss: 0.0204 - accuracy: 1.0000\n",
            "Epoch 175/200\n",
            "6/6 [==============================] - 0s 4ms/step - loss: 0.0200 - accuracy: 1.0000\n",
            "Epoch 176/200\n",
            "6/6 [==============================] - 0s 4ms/step - loss: 0.0197 - accuracy: 1.0000\n",
            "Epoch 177/200\n",
            "6/6 [==============================] - 0s 4ms/step - loss: 0.0193 - accuracy: 1.0000\n",
            "Epoch 178/200\n",
            "6/6 [==============================] - 0s 4ms/step - loss: 0.0190 - accuracy: 1.0000\n",
            "Epoch 179/200\n",
            "6/6 [==============================] - 0s 5ms/step - loss: 0.0187 - accuracy: 1.0000\n",
            "Epoch 180/200\n",
            "6/6 [==============================] - 0s 4ms/step - loss: 0.0183 - accuracy: 1.0000\n",
            "Epoch 181/200\n",
            "6/6 [==============================] - 0s 4ms/step - loss: 0.0180 - accuracy: 1.0000\n",
            "Epoch 182/200\n",
            "6/6 [==============================] - 0s 5ms/step - loss: 0.0177 - accuracy: 1.0000\n",
            "Epoch 183/200\n",
            "6/6 [==============================] - 0s 5ms/step - loss: 0.0174 - accuracy: 1.0000\n",
            "Epoch 184/200\n",
            "6/6 [==============================] - 0s 4ms/step - loss: 0.0170 - accuracy: 1.0000\n",
            "Epoch 185/200\n",
            "6/6 [==============================] - 0s 4ms/step - loss: 0.0167 - accuracy: 1.0000\n",
            "Epoch 186/200\n",
            "6/6 [==============================] - 0s 4ms/step - loss: 0.0165 - accuracy: 1.0000\n",
            "Epoch 187/200\n",
            "6/6 [==============================] - 0s 4ms/step - loss: 0.0162 - accuracy: 1.0000\n",
            "Epoch 188/200\n",
            "6/6 [==============================] - 0s 5ms/step - loss: 0.0159 - accuracy: 1.0000\n",
            "Epoch 189/200\n",
            "6/6 [==============================] - 0s 4ms/step - loss: 0.0156 - accuracy: 1.0000\n",
            "Epoch 190/200\n",
            "6/6 [==============================] - 0s 5ms/step - loss: 0.0154 - accuracy: 1.0000\n",
            "Epoch 191/200\n",
            "6/6 [==============================] - 0s 4ms/step - loss: 0.0151 - accuracy: 1.0000\n",
            "Epoch 192/200\n",
            "6/6 [==============================] - 0s 4ms/step - loss: 0.0149 - accuracy: 1.0000\n",
            "Epoch 193/200\n",
            "6/6 [==============================] - 0s 4ms/step - loss: 0.0147 - accuracy: 1.0000\n",
            "Epoch 194/200\n",
            "6/6 [==============================] - 0s 4ms/step - loss: 0.0144 - accuracy: 1.0000\n",
            "Epoch 195/200\n",
            "6/6 [==============================] - 0s 4ms/step - loss: 0.0142 - accuracy: 1.0000\n",
            "Epoch 196/200\n",
            "6/6 [==============================] - 0s 4ms/step - loss: 0.0140 - accuracy: 1.0000\n",
            "Epoch 197/200\n",
            "6/6 [==============================] - 0s 6ms/step - loss: 0.0137 - accuracy: 1.0000\n",
            "Epoch 198/200\n",
            "6/6 [==============================] - 0s 6ms/step - loss: 0.0135 - accuracy: 1.0000\n",
            "Epoch 199/200\n",
            "6/6 [==============================] - 0s 5ms/step - loss: 0.0133 - accuracy: 1.0000\n",
            "Epoch 200/200\n",
            "6/6 [==============================] - 0s 6ms/step - loss: 0.0131 - accuracy: 1.0000\n"
          ]
        },
        {
          "output_type": "execute_result",
          "data": {
            "text/plain": [
              "<keras.src.callbacks.History at 0x7fbd40d58e80>"
            ]
          },
          "metadata": {},
          "execution_count": 18
        }
      ]
    },
    {
      "cell_type": "markdown",
      "source": [
        "Results"
      ],
      "metadata": {
        "id": "aiuyb5ckFhu5"
      }
    },
    {
      "cell_type": "code",
      "source": [
        "input_1 = \"hey\"\n",
        "np.argmax(ann.predict(bag_of_words(input_1, all_words).reshape(1, -1)))"
      ],
      "metadata": {
        "colab": {
          "base_uri": "https://localhost:8080/"
        },
        "id": "5acgH-m5Dlm5",
        "outputId": "21c7e02e-ed75-4258-de83-b4ee855183ff"
      },
      "execution_count": 19,
      "outputs": [
        {
          "output_type": "stream",
          "name": "stdout",
          "text": [
            "1/1 [==============================] - 0s 87ms/step\n"
          ]
        },
        {
          "output_type": "execute_result",
          "data": {
            "text/plain": [
              "1"
            ]
          },
          "metadata": {},
          "execution_count": 19
        }
      ]
    },
    {
      "cell_type": "code",
      "source": [
        "def respond(sentence):\n",
        "\n",
        "\n",
        "    words = tokenize(sentence)\n",
        "    sentence = [stem(w) for w in words if w not in ignore_words]\n",
        "    bag = bag_of_words(sentence, all_words).reshape(1, -1)\n",
        "\n",
        "    probs = ann.predict(bag)\n",
        "\n",
        "    if max(probs[0]) < 0.3 :\n",
        "        max_idx = 0\n",
        "    else :\n",
        "        max_idx = np.argmax(probs)\n",
        "    response = np.random.choice(intents['intents'][max_idx]['responses'])\n",
        "    tag = intents['intents'][max_idx]['tag']\n",
        "\n",
        "    return response, tag"
      ],
      "metadata": {
        "id": "nvJkwHTFDlpS"
      },
      "execution_count": 20,
      "outputs": []
    },
    {
      "cell_type": "code",
      "source": [
        "input_2 = \"i really appriciate it \"\n",
        "\n",
        "respond(input_2)"
      ],
      "metadata": {
        "colab": {
          "base_uri": "https://localhost:8080/"
        },
        "id": "DjlCBye_Dlrs",
        "outputId": "e95438b8-ec33-4301-a7ac-d277eb1ef02b"
      },
      "execution_count": 22,
      "outputs": [
        {
          "output_type": "stream",
          "name": "stdout",
          "text": [
            "1/1 [==============================] - 0s 45ms/step\n"
          ]
        },
        {
          "output_type": "execute_result",
          "data": {
            "text/plain": [
              "('My pleasure', 'thanks')"
            ]
          },
          "metadata": {},
          "execution_count": 22
        }
      ]
    }
  ]
}